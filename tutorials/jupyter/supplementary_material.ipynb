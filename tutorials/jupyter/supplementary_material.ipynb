{
 "cells": [
  {
   "cell_type": "code",
   "execution_count": null,
   "metadata": {
    "editable": true,
    "slideshow": {
     "slide_type": ""
    },
    "tags": [
     "parameters"
    ]
   },
   "outputs": [],
   "source": [
    "counts_file=\"results/tables/counts.tsv\"\n",
    "summary_file=\"results/tables/counts.tsv.summary\"\n",
    "multiqc_file=\"results/multiqc/multiqc_general_stats.txt\"\n",
    "rulegraph_file=\"results/rulegraph.png\"\n",
    "SRR_ids = [\"SRR935090\",\"SRR935091\",\"SRR935092\"]"
   ]
  },
  {
   "cell_type": "markdown",
   "metadata": {},
   "source": [
    "## Overview\n",
    "\n",
    "This document contains supplementary tables and plots from an analysis workflow\n",
    "run on data from an RNA-Seq experiment on _Staphylococcus aureus_ [@osmundson2013rna]."
   ]
  },
  {
   "cell_type": "markdown",
   "metadata": {},
   "source": [
    "## Supplementary tables and figures"
   ]
  },
  {
   "cell_type": "code",
   "execution_count": null,
   "metadata": {
    "tags": []
   },
   "outputs": [],
   "source": [
    "import pandas as pd\n",
    "import matplotlib_inline\n",
    "import altair as alt\n",
    "matplotlib_inline.backend_inline.set_matplotlib_formats('pdf', 'svg')"
   ]
  },
  {
   "cell_type": "code",
   "execution_count": null,
   "metadata": {
    "tags": []
   },
   "outputs": [],
   "source": [
    "#| label: \"fig-barplot\"\n",
    "#| fig-cap: \"Barplot of assigned reads per sample\"\n",
    "#| fig-cap-location: \"bottom\"\n",
    "multiqc = pd.read_csv(multiqc_file, sep=\"\\t\", index_col=0)\n",
    "multiqc.rename(columns = lambda x: x.replace(\"FastQC_mqc-generalstats-fastqc-\", \"\"), inplace=True)\n",
    "multiqc.rename(columns={'percent_duplicates': '%duplicates', 'percent_gc': '%GC', 'avg_sequence_length': \n",
    "                        'mean(read length)', 'percent_fails': '%failed', 'total_sequences': 'total seqs'}, inplace=True)\n",
    "multiqc_plot_data = pd.melt(multiqc.drop(\"total seqs\", axis=1).reset_index(), id_vars=[\"Sample\"], var_name=\"QC stat\", value_name=\"value\")\n",
    "counts_summary = pd.read_csv(summary_file, sep=\"\\t\", index_col=0)\n",
    "counts_summary.rename(columns = lambda x: x.split(\"/\")[-1].replace(\".sorted.bam\",\"\"), inplace=True)\n",
    "summary_plot_data = counts_summary.loc[counts_summary.sum(axis=1)>0]\n",
    "summary_plot_data = pd.melt(summary_plot_data.reset_index(), id_vars=[\"Status\"], var_name=\"Sample\", value_name=\"counts\")\n",
    "\n",
    "chart1 = alt.Chart(summary_plot_data, title=\"Read assignment summary\").mark_bar().encode(\n",
    "    x=\"Sample\", y=\"counts\", color=\"Status\",\n",
    "    tooltip=[\"Sample\",\"Status\",\"counts\"]\n",
    ").properties(width=100, height=300)\n",
    "\n",
    "chart2 = alt.Chart(multiqc_plot_data).mark_bar().encode(\n",
    "    y=\"value\", x=\"Sample\", column=\"QC stat\",\n",
    "    tooltip=[\"Sample\",\"value\"]\n",
    ").properties(width=75, height=300)\n",
    "\n",
    "alt.hconcat(chart1, chart2).resolve_scale(color=\"independent\")"
   ]
  },
  {
   "cell_type": "code",
   "execution_count": null,
   "metadata": {},
   "outputs": [],
   "source": [
    "#| label: tbl-multiqc\n",
    "#| tbl-cap: \"QC table\"\n",
    "#| tbl-cap-location: \"top\"\n",
    "round(multiqc)"
   ]
  },
  {
   "cell_type": "code",
   "execution_count": null,
   "metadata": {
    "tags": []
   },
   "outputs": [],
   "source": [
    "#| label: fig-heatmap\n",
    "#| fig-cap: \"Heatmap of gene expression\"\n",
    "#| fig-cap-location: \"bottom\"\n",
    "\n",
    "counts = pd.read_csv(counts_file, sep=\"\\t\", header=0, comment=\"#\", index_col=0)\n",
    "counts.rename(columns = lambda x: x.split(\"/\")[-1].replace(\".sorted.bam\",\"\"), inplace=True)\n",
    "count_data = counts.loc[:, SRR_ids]\n",
    "# Filter to genes with std/mean > 1.2 and with a max of at least 5\n",
    "heatmap_data = count_data.loc[(count_data.std(axis=1).div(count_data.mean(axis=1))>1.2)&(count_data.max(axis=1)>5)]\n",
    "heatmap_data = pd.melt(heatmap_data.reset_index(), id_vars=[\"Geneid\"], var_name=\"Sample\", value_name=\"counts\")\n",
    "\n",
    "alt.Chart(heatmap_data, title=\"Heatmap of gene expression\").mark_rect().encode(\n",
    "    x=\"Sample\", y=\"Geneid\", color=\"counts\",\n",
    "    tooltip=[\"Sample\",\"Geneid\",\"counts\"]\n",
    ").properties(width=100, height=800)"
   ]
  },
  {
   "cell_type": "markdown",
   "metadata": {},
   "source": [
    "## Reproducibility\n",
    "\n",
    "The code for reproducing this analysis is available in this [GitHub repo](https://github.com/NBISweden/workshop-reproducible-research/tree/main/jupyter).\n",
    "The repo contains:\n",
    "\n",
    "* A Snakemake workflow for running all analysis steps\n",
    "* A Conda environment file for installing all needed dependencies\n",
    "* A Docker file for running the analysis in a well-defined and isolated system"
   ]
  },
  {
   "cell_type": "code",
   "execution_count": null,
   "metadata": {},
   "outputs": [],
   "source": [
    "from IPython.display import Image\n",
    "Image(rulegraph_file)"
   ]
  }
 ],
 "metadata": {
  "hide_input": false,

  "language_info": {
   "codemirror_mode": {
    "name": "ipython",
    "version": 3
   },
   "file_extension": ".py",
   "mimetype": "text/x-python",
   "name": "python",
   "nbconvert_exporter": "python",
   "pygments_lexer": "ipython3",
   "version": "3.12.7"
  },
  "toc": {
   "base_numbering": 1,
   "nav_menu": {},
   "number_sections": true,
   "sideBar": true,
   "skip_h1_title": false,
   "title_cell": "Table of Contents",
   "title_sidebar": "Contents",
   "toc_cell": false,
   "toc_position": {},
   "toc_section_display": true,
   "toc_window_display": false
  }
 },
 "nbformat": 4,
 "nbformat_minor": 4
}
